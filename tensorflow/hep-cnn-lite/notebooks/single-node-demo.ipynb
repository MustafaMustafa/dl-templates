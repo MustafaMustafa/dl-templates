{
 "cells": [
  {
   "cell_type": "code",
   "execution_count": 1,
   "metadata": {},
   "outputs": [],
   "source": [
    "from __future__ import print_function"
   ]
  },
  {
   "cell_type": "markdown",
   "metadata": {},
   "source": [
    "### TensorFlow Arhictecture"
   ]
  },
  {
   "cell_type": "markdown",
   "metadata": {},
   "source": [
    "![A](image6.png)"
   ]
  },
  {
   "cell_type": "markdown",
   "metadata": {},
   "source": [
    "### Load Libraries"
   ]
  },
  {
   "cell_type": "code",
   "execution_count": 2,
   "metadata": {},
   "outputs": [],
   "source": [
    "import os\n",
    "import sys\n",
    "sys.path.append('../')\n",
    "\n",
    "import tensorflow as tf\n",
    "from models.cnn_model import CNN_Model\n",
    "from data.data_pipeline import get_input_fn\n",
    "from hparams.yparams import YParams\n",
    "from parse_tensorboard_tfevents import get_training_history\n",
    "\n",
    "import matplotlib.pyplot as plt\n",
    "%matplotlib inline\n",
    "plt.style.use('demo_style.mplstyle')"
   ]
  },
  {
   "cell_type": "markdown",
   "metadata": {},
   "source": [
    "### Create model_fn"
   ]
  },
  {
   "cell_type": "code",
   "execution_count": 3,
   "metadata": {},
   "outputs": [],
   "source": [
    "def model_fn(features, labels, params, mode):\n",
    "    \"\"\" Build graph and return EstimatorSpec \"\"\"\n",
    "\n",
    "    is_training = (mode == tf.estimator.ModeKeys.TRAIN)\n",
    "\n",
    "    model = CNN_Model(params, input_x=features, is_training=is_training)\n",
    "\n",
    "    if mode is not tf.estimator.ModeKeys.PREDICT:\n",
    "        # loss and optimizer are not needed for inference\n",
    "        model.define_loss(labels)\n",
    "        model.define_optimizer()\n",
    "        model.define_train_op()\n",
    "\n",
    "    with tf.variable_scope('eval_metrics') as _:\n",
    "        eval_metrics = {}\n",
    "        probs = tf.nn.sigmoid(model.logits)\n",
    "        predictions = tf.round(probs)\n",
    "        eval_metrics['acc'] = tf.metrics.accuracy(labels=labels, predictions=predictions)\n",
    "\n",
    "    return tf.estimator.EstimatorSpec(loss=model.loss,\n",
    "                                      train_op=model.train_op,\n",
    "                                      eval_metric_ops=eval_metrics,\n",
    "                                      mode=mode)"
   ]
  },
  {
   "cell_type": "markdown",
   "metadata": {},
   "source": [
    "### load parameters"
   ]
  },
  {
   "cell_type": "code",
   "execution_count": 4,
   "metadata": {},
   "outputs": [
    {
     "name": "stdout",
     "output_type": "stream",
     "text": [
      "train_dataset_size 128000\n",
      "valid_dataset_size 64000\n",
      "train_data_files ../data/train.h5\n",
      "valid_data_files ../data/valid.h5\n",
      "epochs 5\n",
      "experiment_dir ../logs/demo_single_node\n",
      "data_format channels_last\n",
      "input_shape ['None', 64, 64, 1]\n",
      "conv_filters [16, 32, 64]\n",
      "conv_args CommentedMap([('kernel_size', 3), ('strides', 1), ('padding', 'same'), ('activation', 'relu')])\n",
      "maxpool_args CommentedMap([('pool_size', 2), ('strides', 2)])\n",
      "conv_dropout_rate 0.2\n",
      "fc_hidden_units [256]\n",
      "fc_dropout_rates [0.2]\n",
      "fc_activation relu\n",
      "learning_rate 0.001\n",
      "batchsize 128\n"
     ]
    }
   ],
   "source": [
    "configurations_path = '../hparams/cnn.yaml'\n",
    "experiment = 'demo_single_node'\n",
    "params = YParams(configurations_path, experiment)"
   ]
  },
  {
   "cell_type": "markdown",
   "metadata": {},
   "source": [
    "### Create data pipelines"
   ]
  },
  {
   "cell_type": "code",
   "execution_count": 5,
   "metadata": {},
   "outputs": [],
   "source": [
    "# create training data input pipeline\n",
    "train_input_fn, train_init_hook = get_input_fn(params.train_data_files,\n",
    "                                               dataset_size=params.train_dataset_size,\n",
    "                                               batchsize=params.batchsize,\n",
    "                                               epochs=params.epochs,\n",
    "                                               variable_scope='train_data_pipeline')\n",
    "\n",
    "max_steps = (params.train_dataset_size//params.batchsize)*params.epochs\n",
    "train_spec = tf.estimator.TrainSpec(input_fn=train_input_fn,\n",
    "                                    hooks=[train_init_hook],\n",
    "                                    max_steps=max_steps)\n",
    "\n",
    "# create validation data input pipeline\n",
    "valid_input_fn, valid_init_hook = get_input_fn(params.valid_data_files,\n",
    "                                               dataset_size=params.valid_dataset_size,\n",
    "                                               batchsize=params.batchsize,\n",
    "                                               epochs=params.epochs,\n",
    "                                               variable_scope='valid_data_pipeline')\n",
    "\n",
    "eval_spec = tf.estimator.EvalSpec(input_fn=valid_input_fn,\n",
    "                                  hooks=[valid_init_hook],\n",
    "                                  start_delay_secs=10,\n",
    "                                  throttle_secs=10) # too frequent, just for demo"
   ]
  },
  {
   "cell_type": "markdown",
   "metadata": {},
   "source": [
    "### Build estimator"
   ]
  },
  {
   "cell_type": "code",
   "execution_count": 6,
   "metadata": {},
   "outputs": [],
   "source": [
    "config = tf.estimator.RunConfig(save_checkpoints_secs=10) # too frequent, just for demo"
   ]
  },
  {
   "cell_type": "code",
   "execution_count": 7,
   "metadata": {},
   "outputs": [
    {
     "name": "stdout",
     "output_type": "stream",
     "text": [
      "INFO:tensorflow:Using config: {'_task_type': 'worker', '_device_fn': None, '_model_dir': '../logs/demo_single_node', '_tf_random_seed': None, '_evaluation_master': '', '_is_chief': True, '_train_distribute': None, '_save_checkpoints_steps': None, '_global_id_in_cluster': 0, '_keep_checkpoint_every_n_hours': 10000, '_num_ps_replicas': 0, '_session_config': None, '_num_worker_replicas': 1, '_log_step_count_steps': 100, '_keep_checkpoint_max': 5, '_task_id': 0, '_master': '', '_save_checkpoints_secs': 10, '_cluster_spec': <tensorflow.python.training.server_lib.ClusterSpec object at 0x7f4f4031aba8>, '_save_summary_steps': 100, '_service': None}\n"
     ]
    }
   ],
   "source": [
    "estimator = tf.estimator.Estimator(model_fn=model_fn,\n",
    "                                   model_dir=params.experiment_dir,\n",
    "                                   config=config,\n",
    "                                   params=params)"
   ]
  },
  {
   "cell_type": "markdown",
   "metadata": {},
   "source": [
    "### Train Model"
   ]
  },
  {
   "cell_type": "code",
   "execution_count": 8,
   "metadata": {},
   "outputs": [
    {
     "name": "stdout",
     "output_type": "stream",
     "text": [
      "INFO:tensorflow:Running training and evaluation locally (non-distributed).\n",
      "INFO:tensorflow:Start train and evaluate loop. The evaluate will happen after every checkpoint. Checkpoint frequency is determined based on RunConfig arguments: save_checkpoints_steps None or save_checkpoints_secs 10.\n",
      "INFO:tensorflow:Calling model_fn.\n",
      "Number of model parameters 1072385\n",
      "INFO:tensorflow:Done calling model_fn.\n",
      "INFO:tensorflow:Create CheckpointSaverHook.\n",
      "INFO:tensorflow:Graph was finalized.\n",
      "INFO:tensorflow:Running local_init_op.\n",
      "INFO:tensorflow:Done running local_init_op.\n",
      "INFO:tensorflow:Saving checkpoints for 0 into ../logs/demo_single_node/model.ckpt.\n",
      "INFO:tensorflow:loss = 0.693466, step = 0\n",
      "INFO:tensorflow:global_step/sec: 75.414\n",
      "INFO:tensorflow:loss = 0.326354, step = 100 (1.328 sec)\n",
      "INFO:tensorflow:global_step/sec: 88.361\n",
      "INFO:tensorflow:loss = 0.201281, step = 200 (1.132 sec)\n",
      "INFO:tensorflow:global_step/sec: 99.1041\n",
      "INFO:tensorflow:loss = 0.230177, step = 300 (1.009 sec)\n",
      "INFO:tensorflow:global_step/sec: 87.982\n",
      "INFO:tensorflow:loss = 0.330071, step = 400 (1.136 sec)\n",
      "INFO:tensorflow:global_step/sec: 87.9231\n",
      "INFO:tensorflow:loss = 0.281519, step = 500 (1.138 sec)\n",
      "INFO:tensorflow:global_step/sec: 87.1236\n",
      "INFO:tensorflow:loss = 0.303027, step = 600 (1.148 sec)\n",
      "INFO:tensorflow:global_step/sec: 88.6894\n",
      "INFO:tensorflow:loss = 0.248842, step = 700 (1.127 sec)\n",
      "INFO:tensorflow:Saving checkpoints for 722 into ../logs/demo_single_node/model.ckpt.\n",
      "INFO:tensorflow:Calling model_fn.\n",
      "Number of model parameters 1072385\n",
      "INFO:tensorflow:Done calling model_fn.\n",
      "INFO:tensorflow:Starting evaluation at 2018-09-04-04:14:53\n",
      "INFO:tensorflow:Graph was finalized.\n",
      "INFO:tensorflow:Restoring parameters from ../logs/demo_single_node/model.ckpt-722\n",
      "INFO:tensorflow:Running local_init_op.\n",
      "INFO:tensorflow:Done running local_init_op.\n",
      "INFO:tensorflow:Evaluation [10/100]\n",
      "INFO:tensorflow:Evaluation [20/100]\n",
      "INFO:tensorflow:Evaluation [30/100]\n",
      "INFO:tensorflow:Evaluation [40/100]\n",
      "INFO:tensorflow:Evaluation [50/100]\n",
      "INFO:tensorflow:Evaluation [60/100]\n",
      "INFO:tensorflow:Evaluation [70/100]\n",
      "INFO:tensorflow:Evaluation [80/100]\n",
      "INFO:tensorflow:Evaluation [90/100]\n",
      "INFO:tensorflow:Evaluation [100/100]\n",
      "INFO:tensorflow:Finished evaluation at 2018-09-04-04:14:54\n",
      "INFO:tensorflow:Saving dict for global step 722: acc = 0.91125, global_step = 722, loss = 0.218013\n",
      "INFO:tensorflow:Saving 'checkpoint_path' summary for global step 722: ../logs/demo_single_node/model.ckpt-722\n",
      "INFO:tensorflow:global_step/sec: 30.967\n",
      "INFO:tensorflow:loss = 0.228245, step = 800 (3.229 sec)\n",
      "INFO:tensorflow:global_step/sec: 87.1085\n",
      "INFO:tensorflow:loss = 0.192505, step = 900 (1.148 sec)\n",
      "INFO:tensorflow:global_step/sec: 89.9121\n",
      "INFO:tensorflow:loss = 0.136824, step = 1000 (1.112 sec)\n",
      "INFO:tensorflow:global_step/sec: 90.2895\n",
      "INFO:tensorflow:loss = 0.138932, step = 1100 (1.108 sec)\n",
      "INFO:tensorflow:global_step/sec: 94.1893\n",
      "INFO:tensorflow:loss = 0.0278737, step = 1200 (1.061 sec)\n",
      "INFO:tensorflow:global_step/sec: 89.8952\n",
      "INFO:tensorflow:loss = 0.0404055, step = 1300 (1.112 sec)\n",
      "INFO:tensorflow:global_step/sec: 91.3155\n",
      "INFO:tensorflow:loss = 0.0407021, step = 1400 (1.095 sec)\n",
      "INFO:tensorflow:Saving checkpoints for 1435 into ../logs/demo_single_node/model.ckpt.\n",
      "INFO:tensorflow:Skip the current checkpoint eval due to throttle secs (10 secs).\n",
      "INFO:tensorflow:global_step/sec: 80.5152\n",
      "INFO:tensorflow:loss = 0.0447524, step = 1500 (1.242 sec)\n",
      "INFO:tensorflow:global_step/sec: 88.4538\n",
      "INFO:tensorflow:loss = 0.0439831, step = 1600 (1.130 sec)\n",
      "INFO:tensorflow:global_step/sec: 85.1531\n",
      "INFO:tensorflow:loss = 0.05558, step = 1700 (1.175 sec)\n",
      "INFO:tensorflow:global_step/sec: 90.9502\n",
      "INFO:tensorflow:loss = 0.0279325, step = 1800 (1.100 sec)\n",
      "INFO:tensorflow:global_step/sec: 84.4765\n",
      "INFO:tensorflow:loss = 0.0507456, step = 1900 (1.183 sec)\n",
      "INFO:tensorflow:global_step/sec: 83.9905\n",
      "INFO:tensorflow:loss = 0.0338352, step = 2000 (1.191 sec)\n",
      "INFO:tensorflow:global_step/sec: 87.4902\n",
      "INFO:tensorflow:loss = 0.0503018, step = 2100 (1.143 sec)\n",
      "INFO:tensorflow:global_step/sec: 86.6312\n",
      "INFO:tensorflow:loss = 0.0248205, step = 2200 (1.155 sec)\n",
      "INFO:tensorflow:Saving checkpoints for 2294 into ../logs/demo_single_node/model.ckpt.\n",
      "INFO:tensorflow:Calling model_fn.\n",
      "Number of model parameters 1072385\n",
      "INFO:tensorflow:Done calling model_fn.\n",
      "INFO:tensorflow:Starting evaluation at 2018-09-04-04:15:13\n",
      "INFO:tensorflow:Graph was finalized.\n",
      "INFO:tensorflow:Restoring parameters from ../logs/demo_single_node/model.ckpt-2294\n",
      "INFO:tensorflow:Running local_init_op.\n",
      "INFO:tensorflow:Done running local_init_op.\n",
      "INFO:tensorflow:Evaluation [10/100]\n",
      "INFO:tensorflow:Evaluation [20/100]\n",
      "INFO:tensorflow:Evaluation [30/100]\n",
      "INFO:tensorflow:Evaluation [40/100]\n",
      "INFO:tensorflow:Evaluation [50/100]\n",
      "INFO:tensorflow:Evaluation [60/100]\n",
      "INFO:tensorflow:Evaluation [70/100]\n",
      "INFO:tensorflow:Evaluation [80/100]\n",
      "INFO:tensorflow:Evaluation [90/100]\n",
      "INFO:tensorflow:Evaluation [100/100]\n",
      "INFO:tensorflow:Finished evaluation at 2018-09-04-04:15:15\n",
      "INFO:tensorflow:Saving dict for global step 2294: acc = 0.984844, global_step = 2294, loss = 0.0402927\n",
      "INFO:tensorflow:Saving 'checkpoint_path' summary for global step 2294: ../logs/demo_single_node/model.ckpt-2294\n",
      "INFO:tensorflow:global_step/sec: 30.5669\n",
      "INFO:tensorflow:loss = 0.0313728, step = 2300 (3.271 sec)\n",
      "INFO:tensorflow:global_step/sec: 94.2664\n",
      "INFO:tensorflow:loss = 0.0535948, step = 2400 (1.061 sec)\n",
      "INFO:tensorflow:global_step/sec: 87.0628\n",
      "INFO:tensorflow:loss = 0.0253705, step = 2500 (1.148 sec)\n",
      "INFO:tensorflow:global_step/sec: 92.1277\n",
      "INFO:tensorflow:loss = 0.0171135, step = 2600 (1.085 sec)\n",
      "INFO:tensorflow:global_step/sec: 87.5262\n",
      "INFO:tensorflow:loss = 0.0690376, step = 2700 (1.143 sec)\n",
      "INFO:tensorflow:global_step/sec: 87.411\n",
      "INFO:tensorflow:loss = 0.0541083, step = 2800 (1.144 sec)\n",
      "INFO:tensorflow:global_step/sec: 90.0781\n",
      "INFO:tensorflow:loss = 0.070142, step = 2900 (1.110 sec)\n",
      "INFO:tensorflow:global_step/sec: 91.9425\n",
      "INFO:tensorflow:loss = 0.0182373, step = 3000 (1.088 sec)\n",
      "INFO:tensorflow:Saving checkpoints for 3004 into ../logs/demo_single_node/model.ckpt.\n",
      "INFO:tensorflow:Skip the current checkpoint eval due to throttle secs (10 secs).\n",
      "INFO:tensorflow:global_step/sec: 79.1464\n",
      "INFO:tensorflow:loss = 0.0526511, step = 3100 (1.263 sec)\n",
      "INFO:tensorflow:global_step/sec: 89.4557\n",
      "INFO:tensorflow:loss = 0.025492, step = 3200 (1.118 sec)\n",
      "INFO:tensorflow:global_step/sec: 87.4422\n",
      "INFO:tensorflow:loss = 0.0185058, step = 3300 (1.143 sec)\n",
      "INFO:tensorflow:global_step/sec: 84.645\n",
      "INFO:tensorflow:loss = 0.0800056, step = 3400 (1.181 sec)\n",
      "INFO:tensorflow:global_step/sec: 85.0477\n",
      "INFO:tensorflow:loss = 0.00602627, step = 3500 (1.176 sec)\n",
      "INFO:tensorflow:global_step/sec: 96.5507\n",
      "INFO:tensorflow:loss = 0.0170211, step = 3600 (1.036 sec)\n",
      "INFO:tensorflow:global_step/sec: 92.5268\n",
      "INFO:tensorflow:loss = 0.0443923, step = 3700 (1.081 sec)\n",
      "INFO:tensorflow:global_step/sec: 98.034\n",
      "INFO:tensorflow:loss = 0.0213832, step = 3800 (1.020 sec)\n",
      "INFO:tensorflow:Saving checkpoints for 3893 into ../logs/demo_single_node/model.ckpt.\n",
      "INFO:tensorflow:Calling model_fn.\n",
      "Number of model parameters 1072385\n",
      "INFO:tensorflow:Done calling model_fn.\n",
      "INFO:tensorflow:Starting evaluation at 2018-09-04-04:15:33\n",
      "INFO:tensorflow:Graph was finalized.\n",
      "INFO:tensorflow:Restoring parameters from ../logs/demo_single_node/model.ckpt-3893\n",
      "INFO:tensorflow:Running local_init_op.\n",
      "INFO:tensorflow:Done running local_init_op.\n",
      "INFO:tensorflow:Evaluation [10/100]\n",
      "INFO:tensorflow:Evaluation [20/100]\n",
      "INFO:tensorflow:Evaluation [30/100]\n",
      "INFO:tensorflow:Evaluation [40/100]\n",
      "INFO:tensorflow:Evaluation [50/100]\n",
      "INFO:tensorflow:Evaluation [60/100]\n",
      "INFO:tensorflow:Evaluation [70/100]\n",
      "INFO:tensorflow:Evaluation [80/100]\n",
      "INFO:tensorflow:Evaluation [90/100]\n",
      "INFO:tensorflow:Evaluation [100/100]\n",
      "INFO:tensorflow:Finished evaluation at 2018-09-04-04:15:35\n",
      "INFO:tensorflow:Saving dict for global step 3893: acc = 0.984609, global_step = 3893, loss = 0.0441268\n",
      "INFO:tensorflow:Saving 'checkpoint_path' summary for global step 3893: ../logs/demo_single_node/model.ckpt-3893\n",
      "INFO:tensorflow:global_step/sec: 30.7811\n",
      "INFO:tensorflow:loss = 0.0497195, step = 3900 (3.249 sec)\n",
      "INFO:tensorflow:global_step/sec: 94.6458\n",
      "INFO:tensorflow:loss = 0.0404848, step = 4000 (1.057 sec)\n"
     ]
    },
    {
     "name": "stdout",
     "output_type": "stream",
     "text": [
      "INFO:tensorflow:global_step/sec: 88.0103\n",
      "INFO:tensorflow:loss = 0.0742548, step = 4100 (1.136 sec)\n",
      "INFO:tensorflow:global_step/sec: 90.4209\n",
      "INFO:tensorflow:loss = 0.0153131, step = 4200 (1.105 sec)\n",
      "INFO:tensorflow:global_step/sec: 91.049\n",
      "INFO:tensorflow:loss = 0.0768374, step = 4300 (1.098 sec)\n",
      "INFO:tensorflow:global_step/sec: 86.2233\n",
      "INFO:tensorflow:loss = 0.0153681, step = 4400 (1.160 sec)\n",
      "INFO:tensorflow:global_step/sec: 95.0265\n",
      "INFO:tensorflow:loss = 0.0139737, step = 4500 (1.053 sec)\n",
      "INFO:tensorflow:global_step/sec: 86.0553\n",
      "INFO:tensorflow:loss = 0.0353309, step = 4600 (1.162 sec)\n",
      "INFO:tensorflow:Saving checkpoints for 4602 into ../logs/demo_single_node/model.ckpt.\n",
      "INFO:tensorflow:Calling model_fn.\n",
      "Number of model parameters 1072385\n",
      "INFO:tensorflow:Done calling model_fn.\n",
      "INFO:tensorflow:Starting evaluation at 2018-09-04-04:15:43\n",
      "INFO:tensorflow:Graph was finalized.\n",
      "INFO:tensorflow:Restoring parameters from ../logs/demo_single_node/model.ckpt-4602\n",
      "INFO:tensorflow:Running local_init_op.\n",
      "INFO:tensorflow:Done running local_init_op.\n",
      "INFO:tensorflow:Evaluation [10/100]\n",
      "INFO:tensorflow:Evaluation [20/100]\n",
      "INFO:tensorflow:Evaluation [30/100]\n",
      "INFO:tensorflow:Evaluation [40/100]\n",
      "INFO:tensorflow:Evaluation [50/100]\n",
      "INFO:tensorflow:Evaluation [60/100]\n",
      "INFO:tensorflow:Evaluation [70/100]\n",
      "INFO:tensorflow:Evaluation [80/100]\n",
      "INFO:tensorflow:Evaluation [90/100]\n",
      "INFO:tensorflow:Evaluation [100/100]\n",
      "INFO:tensorflow:Finished evaluation at 2018-09-04-04:15:45\n",
      "INFO:tensorflow:Saving dict for global step 4602: acc = 0.988828, global_step = 4602, loss = 0.0320235\n",
      "INFO:tensorflow:Saving 'checkpoint_path' summary for global step 4602: ../logs/demo_single_node/model.ckpt-4602\n",
      "INFO:tensorflow:global_step/sec: 30.4199\n",
      "INFO:tensorflow:loss = 0.111576, step = 4700 (3.287 sec)\n",
      "INFO:tensorflow:global_step/sec: 84.5238\n",
      "INFO:tensorflow:loss = 0.0565357, step = 4800 (1.184 sec)\n",
      "INFO:tensorflow:global_step/sec: 90.9727\n",
      "INFO:tensorflow:loss = 0.00491782, step = 4900 (1.099 sec)\n",
      "INFO:tensorflow:Saving checkpoints for 5000 into ../logs/demo_single_node/model.ckpt.\n",
      "INFO:tensorflow:Skip the current checkpoint eval due to throttle secs (10 secs).\n",
      "INFO:tensorflow:Calling model_fn.\n",
      "Number of model parameters 1072385\n",
      "INFO:tensorflow:Done calling model_fn.\n",
      "INFO:tensorflow:Starting evaluation at 2018-09-04-04:15:50\n",
      "INFO:tensorflow:Graph was finalized.\n",
      "INFO:tensorflow:Restoring parameters from ../logs/demo_single_node/model.ckpt-5000\n",
      "INFO:tensorflow:Running local_init_op.\n",
      "INFO:tensorflow:Done running local_init_op.\n",
      "INFO:tensorflow:Evaluation [10/100]\n",
      "INFO:tensorflow:Evaluation [20/100]\n",
      "INFO:tensorflow:Evaluation [30/100]\n",
      "INFO:tensorflow:Evaluation [40/100]\n",
      "INFO:tensorflow:Evaluation [50/100]\n",
      "INFO:tensorflow:Evaluation [60/100]\n",
      "INFO:tensorflow:Evaluation [70/100]\n",
      "INFO:tensorflow:Evaluation [80/100]\n",
      "INFO:tensorflow:Evaluation [90/100]\n",
      "INFO:tensorflow:Evaluation [100/100]\n",
      "INFO:tensorflow:Finished evaluation at 2018-09-04-04:15:51\n",
      "INFO:tensorflow:Saving dict for global step 5000: acc = 0.98, global_step = 5000, loss = 0.0539368\n",
      "INFO:tensorflow:Saving 'checkpoint_path' summary for global step 5000: ../logs/demo_single_node/model.ckpt-5000\n",
      "INFO:tensorflow:Loss for final step: 0.165207.\n"
     ]
    },
    {
     "data": {
      "text/plain": [
       "({'acc': 0.98000002, 'global_step': 5000, 'loss': 0.05393682}, [])"
      ]
     },
     "execution_count": 8,
     "metadata": {},
     "output_type": "execute_result"
    }
   ],
   "source": [
    "tf.logging.set_verbosity(tf.logging.INFO)\n",
    "tf.estimator.train_and_evaluate(estimator, train_spec, eval_spec)"
   ]
  },
  {
   "cell_type": "markdown",
   "metadata": {},
   "source": [
    "### Examine learning curves"
   ]
  },
  {
   "cell_type": "code",
   "execution_count": 9,
   "metadata": {},
   "outputs": [],
   "source": [
    "train_hist, valid_hist = get_training_history(model_dir=params.experiment_dir)"
   ]
  },
  {
   "cell_type": "code",
   "execution_count": 10,
   "metadata": {},
   "outputs": [
    {
     "data": {
      "image/png": "[encoded data removed]",
      "text/plain": [
       "<matplotlib.figure.Figure at 0x7f4f007619e8>"
      ]
     },
     "metadata": {},
     "output_type": "display_data"
    }
   ],
   "source": [
    "plt.plot(valid_hist['loss']['steps'], valid_hist['loss']['values'], label='valid');\n",
    "plt.plot(train_hist['loss']['steps'], train_hist['loss']['values'], label='train');\n",
    "plt.ylabel('Loss');\n",
    "plt.xlabel('Step');\n",
    "plt.legend(loc=1);"
   ]
  },
  {
   "cell_type": "code",
   "execution_count": 11,
   "metadata": {},
   "outputs": [
    {
     "data": {
      "image/png": "[encoded data removed]",
      "text/plain": [
       "<matplotlib.figure.Figure at 0x7f4f4031ae80>"
      ]
     },
     "metadata": {},
     "output_type": "display_data"
    }
   ],
   "source": [
    "plt.plot(valid_hist['acc']['steps'], valid_hist['acc']['values'], label='valid');\n",
    "plt.ylabel('Acc');\n",
    "plt.xlabel('Step');\n",
    "plt.legend(loc=0);"
   ]
  },
  {
   "cell_type": "code",
   "execution_count": 12,
   "metadata": {},
   "outputs": [
    {
     "data": {
      "image/png": "[encoded data removed]",
      "text/plain": [
       "<matplotlib.figure.Figure at 0x7f4f4031ae10>"
      ]
     },
     "metadata": {},
     "output_type": "display_data"
    }
   ],
   "source": [
    "plt.plot(train_hist['global_step/sec']['steps'], train_hist['global_step/sec']['values']);\n",
    "plt.ylabel('global_step/sec');\n",
    "plt.xlabel('Step');"
   ]
  }
 ],
 "metadata": {
  "kernelspec": {
   "display_name": "Python 3",
   "language": "python",
   "name": "python3"
  },
  "language_info": {
   "codemirror_mode": {
    "name": "ipython",
    "version": 3
   },
   "file_extension": ".py",
   "mimetype": "text/x-python",
   "name": "python",
   "nbconvert_exporter": "python",
   "pygments_lexer": "ipython3",
   "version": "3.5.2"
  }
 },
 "nbformat": 4,
 "nbformat_minor": 2
}
