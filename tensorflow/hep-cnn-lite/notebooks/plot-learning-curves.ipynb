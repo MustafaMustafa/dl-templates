{
 "cells": [
  {
   "cell_type": "code",
   "execution_count": 1,
   "metadata": {},
   "outputs": [],
   "source": [
    "from __future__ import print_function"
   ]
  },
  {
   "cell_type": "markdown",
   "metadata": {},
   "source": [
    "### TensorFlow Arhictecture"
   ]
  },
  {
   "cell_type": "markdown",
   "metadata": {},
   "source": [
    "![A](image6.png)"
   ]
  },
  {
   "cell_type": "markdown",
   "metadata": {},
   "source": [
    "### Load Libraries"
   ]
  },
  {
   "cell_type": "code",
   "execution_count": 2,
   "metadata": {},
   "outputs": [],
   "source": [
    "import os\n",
    "import sys\n",
    "sys.path.append('../')\n",
    "\n",
    "import tensorflow as tf\n",
    "from models.cnn_model import CNN_Model\n",
    "from data.data_pipeline import get_input_fn\n",
    "from hparams.yparams import YParams\n",
    "from parse_tensorboard_tfevents import get_training_history\n",
    "\n",
    "import matplotlib.pyplot as plt\n",
    "%matplotlib inline\n",
    "plt.style.use('demo_style.mplstyle')"
   ]
  },
  {
   "cell_type": "markdown",
   "metadata": {},
   "source": [
    "### Create model_fn"
   ]
  },
  {
   "cell_type": "code",
   "execution_count": 3,
   "metadata": {},
   "outputs": [],
   "source": [
    "def model_fn(features, labels, params, mode):\n",
    "    \"\"\" Build graph and return EstimatorSpec \"\"\"\n",
    "\n",
    "    is_training = (mode == tf.estimator.ModeKeys.TRAIN)\n",
    "\n",
    "    model = CNN_Model(params, input_x=features, is_training=is_training)\n",
    "\n",
    "    if mode is not tf.estimator.ModeKeys.PREDICT:\n",
    "        # loss and optimizer are not needed for inference\n",
    "        model.define_loss(labels)\n",
    "        model.define_optimizer()\n",
    "\n",
    "    with tf.variable_scope('eval_metrics') as _:\n",
    "        eval_metrics = {}\n",
    "        probs = tf.nn.sigmoid(model.logits)\n",
    "        predictions = tf.round(probs)\n",
    "        eval_metrics['acc'] = tf.metrics.accuracy(labels=labels, predictions=predictions)\n",
    "\n",
    "    return tf.estimator.EstimatorSpec(loss=model.loss,\n",
    "                                      train_op=model.optimizer,\n",
    "                                      eval_metric_ops=eval_metrics,\n",
    "                                      mode=mode)"
   ]
  },
  {
   "cell_type": "markdown",
   "metadata": {},
   "source": [
    "### load parameters"
   ]
  },
  {
   "cell_type": "code",
   "execution_count": 4,
   "metadata": {},
   "outputs": [
    {
     "name": "stdout",
     "output_type": "stream",
     "text": [
      "train_dataset_size 128000\n",
      "valid_dataset_size 64000\n",
      "train_data_files ../data/train.h5\n",
      "valid_data_files ../data/valid.h5\n",
      "epochs 5\n",
      "experiment_dir ../logs/demo_single_node\n",
      "data_format channels_last\n",
      "input_shape ['None', 64, 64, 1]\n",
      "conv_filters [16, 32, 64]\n",
      "conv_args CommentedMap([('kernel_size', 3), ('strides', 1), ('padding', 'same'), ('activation', 'relu')])\n",
      "maxpool_args CommentedMap([('pool_size', 2), ('strides', 2)])\n",
      "conv_dropout_rate 0.2\n",
      "fc_hidden_units [256]\n",
      "fc_dropout_rates [0.2]\n",
      "fc_activation relu\n",
      "learning_rate 0.001\n",
      "batchsize 128\n"
     ]
    }
   ],
   "source": [
    "configurations_path = '../hparams/cnn.yaml'\n",
    "experiment = 'demo_single_node'\n",
    "params = YParams(configurations_path, experiment)"
   ]
  },
  {
   "cell_type": "markdown",
   "metadata": {},
   "source": [
    "### Create data pipelines"
   ]
  },
  {
   "cell_type": "code",
   "execution_count": 5,
   "metadata": {},
   "outputs": [],
   "source": [
    "# create training data input pipeline\n",
    "train_input_fn, train_init_hook = get_input_fn(params.train_data_files,\n",
    "                                               dataset_size=params.train_dataset_size,\n",
    "                                               batchsize=params.batchsize,\n",
    "                                               epochs=params.epochs,\n",
    "                                               variable_scope='train_data_pipeline')\n",
    "\n",
    "max_steps = (params.train_dataset_size//params.batchsize)*params.epochs\n",
    "train_spec = tf.estimator.TrainSpec(input_fn=train_input_fn,\n",
    "                                    hooks=[train_init_hook],\n",
    "                                    max_steps=max_steps)\n",
    "\n",
    "# create validation data input pipeline\n",
    "valid_input_fn, valid_init_hook = get_input_fn(params.valid_data_files,\n",
    "                                               dataset_size=params.valid_dataset_size,\n",
    "                                               batchsize=params.batchsize,\n",
    "                                               epochs=params.epochs,\n",
    "                                               variable_scope='valid_data_pipeline')\n",
    "\n",
    "eval_spec = tf.estimator.EvalSpec(input_fn=valid_input_fn,\n",
    "                                  hooks=[valid_init_hook],\n",
    "                                  start_delay_secs=10,\n",
    "                                  throttle_secs=15)"
   ]
  },
  {
   "cell_type": "markdown",
   "metadata": {},
   "source": [
    "### Build estimator"
   ]
  },
  {
   "cell_type": "code",
   "execution_count": 6,
   "metadata": {},
   "outputs": [],
   "source": [
    "config = tf.estimator.RunConfig(save_checkpoints_secs=20) # too frequent, just for demo"
   ]
  },
  {
   "cell_type": "code",
   "execution_count": 7,
   "metadata": {},
   "outputs": [
    {
     "name": "stdout",
     "output_type": "stream",
     "text": [
      "INFO:tensorflow:Using config: {'_is_chief': True, '_num_worker_replicas': 1, '_save_checkpoints_secs': 20, '_task_id': 0, '_cluster_spec': <tensorflow.python.training.server_lib.ClusterSpec object at 0x7fd0792fce80>, '_device_fn': None, '_save_checkpoints_steps': None, '_task_type': 'worker', '_model_dir': '../logs/demo_single_node', '_tf_random_seed': None, '_train_distribute': None, '_keep_checkpoint_max': 5, '_master': '', '_evaluation_master': '', '_num_ps_replicas': 0, '_keep_checkpoint_every_n_hours': 10000, '_service': None, '_global_id_in_cluster': 0, '_log_step_count_steps': 100, '_session_config': None, '_save_summary_steps': 100}\n"
     ]
    }
   ],
   "source": [
    "estimator = tf.estimator.Estimator(model_fn=model_fn,\n",
    "                                   model_dir=params.experiment_dir,\n",
    "                                   config=config,\n",
    "                                   params=params)"
   ]
  },
  {
   "cell_type": "markdown",
   "metadata": {},
   "source": [
    "### Train Model"
   ]
  },
  {
   "cell_type": "code",
   "execution_count": 8,
   "metadata": {},
   "outputs": [
    {
     "name": "stdout",
     "output_type": "stream",
     "text": [
      "INFO:tensorflow:Running training and evaluation locally (non-distributed).\n",
      "INFO:tensorflow:Start train and evaluate loop. The evaluate will happen after every checkpoint. Checkpoint frequency is determined based on RunConfig arguments: save_checkpoints_steps None or save_checkpoints_secs 20.\n",
      "INFO:tensorflow:Calling model_fn.\n",
      "Number of model parameters 1072385\n",
      "INFO:tensorflow:Done calling model_fn.\n",
      "INFO:tensorflow:Create CheckpointSaverHook.\n",
      "INFO:tensorflow:Graph was finalized.\n",
      "INFO:tensorflow:Running local_init_op.\n",
      "INFO:tensorflow:Done running local_init_op.\n",
      "INFO:tensorflow:Saving checkpoints for 0 into ../logs/demo_single_node/model.ckpt.\n",
      "INFO:tensorflow:loss = 0.692996, step = 0\n",
      "INFO:tensorflow:global_step/sec: 78.3305\n",
      "INFO:tensorflow:loss = 0.255566, step = 100 (1.278 sec)\n",
      "INFO:tensorflow:global_step/sec: 88.9762\n",
      "INFO:tensorflow:loss = 0.206599, step = 200 (1.124 sec)\n",
      "INFO:tensorflow:global_step/sec: 85.7971\n",
      "INFO:tensorflow:loss = 0.1885, step = 300 (1.165 sec)\n",
      "INFO:tensorflow:global_step/sec: 85.2062\n",
      "INFO:tensorflow:loss = 0.286217, step = 400 (1.173 sec)\n",
      "INFO:tensorflow:global_step/sec: 92.3756\n",
      "INFO:tensorflow:loss = 0.215786, step = 500 (1.083 sec)\n",
      "INFO:tensorflow:global_step/sec: 89.831\n",
      "INFO:tensorflow:loss = 0.227761, step = 600 (1.113 sec)\n",
      "INFO:tensorflow:global_step/sec: 87.3199\n",
      "INFO:tensorflow:loss = 0.262627, step = 700 (1.145 sec)\n",
      "INFO:tensorflow:global_step/sec: 87.2712\n",
      "INFO:tensorflow:loss = 0.152919, step = 800 (1.146 sec)\n",
      "INFO:tensorflow:global_step/sec: 88.2033\n",
      "INFO:tensorflow:loss = 0.186493, step = 900 (1.133 sec)\n",
      "INFO:tensorflow:global_step/sec: 95.0731\n",
      "INFO:tensorflow:loss = 0.177501, step = 1000 (1.052 sec)\n",
      "INFO:tensorflow:global_step/sec: 85.9317\n",
      "INFO:tensorflow:loss = 0.154502, step = 1100 (1.164 sec)\n",
      "INFO:tensorflow:global_step/sec: 92.7714\n",
      "INFO:tensorflow:loss = 0.123682, step = 1200 (1.078 sec)\n",
      "INFO:tensorflow:global_step/sec: 83.9766\n",
      "INFO:tensorflow:loss = 0.0494139, step = 1300 (1.191 sec)\n",
      "INFO:tensorflow:global_step/sec: 88.478\n",
      "INFO:tensorflow:loss = 0.144555, step = 1400 (1.130 sec)\n",
      "INFO:tensorflow:global_step/sec: 90.1886\n",
      "INFO:tensorflow:loss = 0.0243571, step = 1500 (1.109 sec)\n",
      "INFO:tensorflow:Saving checkpoints for 1599 into ../logs/demo_single_node/model.ckpt.\n",
      "INFO:tensorflow:Calling model_fn.\n",
      "Number of model parameters 1072385\n",
      "INFO:tensorflow:Done calling model_fn.\n",
      "INFO:tensorflow:Starting evaluation at 2018-08-30-02:45:02\n",
      "INFO:tensorflow:Graph was finalized.\n",
      "INFO:tensorflow:Restoring parameters from ../logs/demo_single_node/model.ckpt-1599\n",
      "INFO:tensorflow:Running local_init_op.\n",
      "INFO:tensorflow:Done running local_init_op.\n",
      "INFO:tensorflow:Evaluation [10/100]\n",
      "INFO:tensorflow:Evaluation [20/100]\n",
      "INFO:tensorflow:Evaluation [30/100]\n",
      "INFO:tensorflow:Evaluation [40/100]\n",
      "INFO:tensorflow:Evaluation [50/100]\n",
      "INFO:tensorflow:Evaluation [60/100]\n",
      "INFO:tensorflow:Evaluation [70/100]\n",
      "INFO:tensorflow:Evaluation [80/100]\n",
      "INFO:tensorflow:Evaluation [90/100]\n",
      "INFO:tensorflow:Evaluation [100/100]\n",
      "INFO:tensorflow:Finished evaluation at 2018-08-30-02:45:04\n",
      "INFO:tensorflow:Saving dict for global step 1599: acc = 0.978672, global_step = 1599, loss = 0.058605\n",
      "INFO:tensorflow:Saving 'checkpoint_path' summary for global step 1599: ../logs/demo_single_node/model.ckpt-1599\n",
      "INFO:tensorflow:global_step/sec: 30.6927\n",
      "INFO:tensorflow:loss = 0.0533499, step = 1600 (3.257 sec)\n",
      "INFO:tensorflow:global_step/sec: 85.9545\n",
      "INFO:tensorflow:loss = 0.149626, step = 1700 (1.164 sec)\n",
      "INFO:tensorflow:global_step/sec: 89.2178\n",
      "INFO:tensorflow:loss = 0.0479557, step = 1800 (1.121 sec)\n",
      "INFO:tensorflow:global_step/sec: 86.712\n",
      "INFO:tensorflow:loss = 0.0607529, step = 1900 (1.153 sec)\n",
      "INFO:tensorflow:global_step/sec: 89.5127\n",
      "INFO:tensorflow:loss = 0.0135786, step = 2000 (1.117 sec)\n",
      "INFO:tensorflow:global_step/sec: 86.3864\n",
      "INFO:tensorflow:loss = 0.199129, step = 2100 (1.157 sec)\n",
      "INFO:tensorflow:global_step/sec: 88.1649\n",
      "INFO:tensorflow:loss = 0.0283558, step = 2200 (1.134 sec)\n",
      "INFO:tensorflow:global_step/sec: 91.3754\n",
      "INFO:tensorflow:loss = 0.0126982, step = 2300 (1.095 sec)\n",
      "INFO:tensorflow:global_step/sec: 87.3541\n",
      "INFO:tensorflow:loss = 0.0414131, step = 2400 (1.146 sec)\n",
      "INFO:tensorflow:global_step/sec: 93.1501\n",
      "INFO:tensorflow:loss = 0.053015, step = 2500 (1.073 sec)\n",
      "INFO:tensorflow:global_step/sec: 89.0738\n",
      "INFO:tensorflow:loss = 0.0641282, step = 2600 (1.123 sec)\n",
      "INFO:tensorflow:global_step/sec: 85.0894\n",
      "INFO:tensorflow:loss = 0.0986435, step = 2700 (1.176 sec)\n",
      "INFO:tensorflow:global_step/sec: 88.1159\n",
      "INFO:tensorflow:loss = 0.0134685, step = 2800 (1.135 sec)\n",
      "INFO:tensorflow:global_step/sec: 94.3864\n",
      "INFO:tensorflow:loss = 0.0340849, step = 2900 (1.060 sec)\n",
      "INFO:tensorflow:global_step/sec: 88.0311\n",
      "INFO:tensorflow:loss = 0.0582707, step = 3000 (1.136 sec)\n",
      "INFO:tensorflow:global_step/sec: 86.3558\n",
      "INFO:tensorflow:loss = 0.0158445, step = 3100 (1.158 sec)\n",
      "INFO:tensorflow:Saving checkpoints for 3173 into ../logs/demo_single_node/model.ckpt.\n",
      "INFO:tensorflow:Calling model_fn.\n",
      "Number of model parameters 1072385\n",
      "INFO:tensorflow:Done calling model_fn.\n",
      "INFO:tensorflow:Starting evaluation at 2018-08-30-02:45:22\n",
      "INFO:tensorflow:Graph was finalized.\n",
      "INFO:tensorflow:Restoring parameters from ../logs/demo_single_node/model.ckpt-3173\n",
      "INFO:tensorflow:Running local_init_op.\n",
      "INFO:tensorflow:Done running local_init_op.\n",
      "INFO:tensorflow:Evaluation [10/100]\n",
      "INFO:tensorflow:Evaluation [20/100]\n",
      "INFO:tensorflow:Evaluation [30/100]\n",
      "INFO:tensorflow:Evaluation [40/100]\n",
      "INFO:tensorflow:Evaluation [50/100]\n",
      "INFO:tensorflow:Evaluation [60/100]\n",
      "INFO:tensorflow:Evaluation [70/100]\n",
      "INFO:tensorflow:Evaluation [80/100]\n",
      "INFO:tensorflow:Evaluation [90/100]\n",
      "INFO:tensorflow:Evaluation [100/100]\n",
      "INFO:tensorflow:Finished evaluation at 2018-08-30-02:45:24\n",
      "INFO:tensorflow:Saving dict for global step 3173: acc = 0.986562, global_step = 3173, loss = 0.0382962\n",
      "INFO:tensorflow:Saving 'checkpoint_path' summary for global step 3173: ../logs/demo_single_node/model.ckpt-3173\n",
      "INFO:tensorflow:global_step/sec: 29.8845\n",
      "INFO:tensorflow:loss = 0.0142382, step = 3200 (3.346 sec)\n",
      "INFO:tensorflow:global_step/sec: 88.3413\n",
      "INFO:tensorflow:loss = 0.0340807, step = 3300 (1.132 sec)\n",
      "INFO:tensorflow:global_step/sec: 89.3119\n",
      "INFO:tensorflow:loss = 0.006493, step = 3400 (1.120 sec)\n",
      "INFO:tensorflow:global_step/sec: 85.8236\n",
      "INFO:tensorflow:loss = 0.0195039, step = 3500 (1.165 sec)\n",
      "INFO:tensorflow:global_step/sec: 89.9039\n",
      "INFO:tensorflow:loss = 0.031562, step = 3600 (1.112 sec)\n",
      "INFO:tensorflow:global_step/sec: 87.1143\n",
      "INFO:tensorflow:loss = 0.109649, step = 3700 (1.148 sec)\n",
      "INFO:tensorflow:global_step/sec: 86.3828\n",
      "INFO:tensorflow:loss = 0.0262616, step = 3800 (1.158 sec)\n",
      "INFO:tensorflow:global_step/sec: 86.1417\n",
      "INFO:tensorflow:loss = 0.0425871, step = 3900 (1.161 sec)\n",
      "INFO:tensorflow:global_step/sec: 86.8693\n",
      "INFO:tensorflow:loss = 0.0163499, step = 4000 (1.151 sec)\n",
      "INFO:tensorflow:global_step/sec: 84.4247\n",
      "INFO:tensorflow:loss = 0.0605494, step = 4100 (1.185 sec)\n",
      "INFO:tensorflow:global_step/sec: 88.0562\n",
      "INFO:tensorflow:loss = 0.00828773, step = 4200 (1.135 sec)\n",
      "INFO:tensorflow:global_step/sec: 90.1105\n",
      "INFO:tensorflow:loss = 0.0101371, step = 4300 (1.110 sec)\n",
      "INFO:tensorflow:global_step/sec: 89.5317\n",
      "INFO:tensorflow:loss = 0.0240277, step = 4400 (1.117 sec)\n",
      "INFO:tensorflow:global_step/sec: 89.0421\n",
      "INFO:tensorflow:loss = 0.0166318, step = 4500 (1.123 sec)\n",
      "INFO:tensorflow:global_step/sec: 85.6478\n",
      "INFO:tensorflow:loss = 0.0371911, step = 4600 (1.167 sec)\n",
      "INFO:tensorflow:global_step/sec: 86.3018\n",
      "INFO:tensorflow:loss = 0.0521408, step = 4700 (1.159 sec)\n",
      "INFO:tensorflow:Saving checkpoints for 4734 into ../logs/demo_single_node/model.ckpt.\n",
      "INFO:tensorflow:Calling model_fn.\n",
      "Number of model parameters 1072385\n",
      "INFO:tensorflow:Done calling model_fn.\n",
      "INFO:tensorflow:Starting evaluation at 2018-08-30-02:45:42\n",
      "INFO:tensorflow:Graph was finalized.\n",
      "INFO:tensorflow:Restoring parameters from ../logs/demo_single_node/model.ckpt-4734\n",
      "INFO:tensorflow:Running local_init_op.\n",
      "INFO:tensorflow:Done running local_init_op.\n",
      "INFO:tensorflow:Evaluation [10/100]\n",
      "INFO:tensorflow:Evaluation [20/100]\n",
      "INFO:tensorflow:Evaluation [30/100]\n",
      "INFO:tensorflow:Evaluation [40/100]\n",
      "INFO:tensorflow:Evaluation [50/100]\n",
      "INFO:tensorflow:Evaluation [60/100]\n",
      "INFO:tensorflow:Evaluation [70/100]\n"
     ]
    },
    {
     "name": "stdout",
     "output_type": "stream",
     "text": [
      "INFO:tensorflow:Evaluation [80/100]\n",
      "INFO:tensorflow:Evaluation [90/100]\n",
      "INFO:tensorflow:Evaluation [100/100]\n",
      "INFO:tensorflow:Finished evaluation at 2018-08-30-02:45:44\n",
      "INFO:tensorflow:Saving dict for global step 4734: acc = 0.983594, global_step = 4734, loss = 0.0443908\n",
      "INFO:tensorflow:Saving 'checkpoint_path' summary for global step 4734: ../logs/demo_single_node/model.ckpt-4734\n",
      "INFO:tensorflow:global_step/sec: 29.9216\n",
      "INFO:tensorflow:loss = 0.0148298, step = 4800 (3.342 sec)\n",
      "INFO:tensorflow:global_step/sec: 84.5477\n",
      "INFO:tensorflow:loss = 0.0635375, step = 4900 (1.183 sec)\n",
      "INFO:tensorflow:Saving checkpoints for 5000 into ../logs/demo_single_node/model.ckpt.\n",
      "INFO:tensorflow:Skip the current checkpoint eval due to throttle secs (15 secs).\n",
      "INFO:tensorflow:Calling model_fn.\n",
      "Number of model parameters 1072385\n",
      "INFO:tensorflow:Done calling model_fn.\n",
      "INFO:tensorflow:Starting evaluation at 2018-08-30-02:45:48\n",
      "INFO:tensorflow:Graph was finalized.\n",
      "INFO:tensorflow:Restoring parameters from ../logs/demo_single_node/model.ckpt-5000\n",
      "INFO:tensorflow:Running local_init_op.\n",
      "INFO:tensorflow:Done running local_init_op.\n",
      "INFO:tensorflow:Evaluation [10/100]\n",
      "INFO:tensorflow:Evaluation [20/100]\n",
      "INFO:tensorflow:Evaluation [30/100]\n",
      "INFO:tensorflow:Evaluation [40/100]\n",
      "INFO:tensorflow:Evaluation [50/100]\n",
      "INFO:tensorflow:Evaluation [60/100]\n",
      "INFO:tensorflow:Evaluation [70/100]\n",
      "INFO:tensorflow:Evaluation [80/100]\n",
      "INFO:tensorflow:Evaluation [90/100]\n",
      "INFO:tensorflow:Evaluation [100/100]\n",
      "INFO:tensorflow:Finished evaluation at 2018-08-30-02:45:49\n",
      "INFO:tensorflow:Saving dict for global step 5000: acc = 0.981406, global_step = 5000, loss = 0.0501558\n",
      "INFO:tensorflow:Saving 'checkpoint_path' summary for global step 5000: ../logs/demo_single_node/model.ckpt-5000\n",
      "INFO:tensorflow:Loss for final step: 0.0736191.\n"
     ]
    },
    {
     "data": {
      "text/plain": [
       "({'acc': 0.98140627, 'global_step': 5000, 'loss': 0.050155796}, [])"
      ]
     },
     "execution_count": 8,
     "metadata": {},
     "output_type": "execute_result"
    }
   ],
   "source": [
    "tf.logging.set_verbosity(tf.logging.INFO)\n",
    "tf.estimator.train_and_evaluate(estimator, train_spec, eval_spec)"
   ]
  },
  {
   "cell_type": "markdown",
   "metadata": {},
   "source": [
    "### Examine learning curves"
   ]
  },
  {
   "cell_type": "code",
   "execution_count": 9,
   "metadata": {},
   "outputs": [],
   "source": [
    "train_hist, valid_hist = get_training_history(model_dir=params.experiment_dir)"
   ]
  },
  {
   "cell_type": "code",
   "execution_count": 10,
   "metadata": {},
   "outputs": [
    {
     "data": {
      "image/png": "[encoded data removed]",
      "text/plain": [
       "<matplotlib.figure.Figure at 0x7fd058782e48>"
      ]
     },
     "metadata": {},
     "output_type": "display_data"
    }
   ],
   "source": [
    "plt.plot(valid_hist['loss']['steps'], valid_hist['loss']['values'], label='valid');\n",
    "plt.plot(train_hist['loss']['steps'], train_hist['loss']['values'], label='train');\n",
    "plt.ylabel('Loss');\n",
    "plt.xlabel('Step');\n",
    "plt.legend(loc=1);"
   ]
  },
  {
   "cell_type": "code",
   "execution_count": 11,
   "metadata": {},
   "outputs": [
    {
     "data": {
      "image/png": "[encoded data removed]",
      "text/plain": [
       "<matplotlib.figure.Figure at 0x7fd0792fcbe0>"
      ]
     },
     "metadata": {},
     "output_type": "display_data"
    }
   ],
   "source": [
    "plt.plot(valid_hist['acc']['steps'], valid_hist['acc']['values'], label='valid');\n",
    "plt.ylabel('Acc');\n",
    "plt.xlabel('Step');\n",
    "plt.legend(loc=0);"
   ]
  },
  {
   "cell_type": "code",
   "execution_count": 12,
   "metadata": {},
   "outputs": [
    {
     "data": {
      "image/png": "[encoded data removed]",
      "text/plain": [
       "<matplotlib.figure.Figure at 0x7fd0792fc358>"
      ]
     },
     "metadata": {},
     "output_type": "display_data"
    }
   ],
   "source": [
    "plt.plot(train_hist['global_step/sec']['steps'], train_hist['global_step/sec']['values']);\n",
    "plt.ylabel('global_step/sec');\n",
    "plt.xlabel('Step');"
   ]
  }
 ],
 "metadata": {
  "kernelspec": {
   "display_name": "Python 3",
   "language": "python",
   "name": "python3"
  },
  "language_info": {
   "codemirror_mode": {
    "name": "ipython",
    "version": 3
   },
   "file_extension": ".py",
   "mimetype": "text/x-python",
   "name": "python",
   "nbconvert_exporter": "python",
   "pygments_lexer": "ipython3",
   "version": "3.5.2"
  }
 },
 "nbformat": 4,
 "nbformat_minor": 2
}
